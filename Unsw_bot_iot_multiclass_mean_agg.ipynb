{
 "cells": [
  {
   "cell_type": "code",
   "execution_count": 1,
   "metadata": {
    "colab": {
     "base_uri": "https://localhost:8080/"
    },
    "id": "mS0bWISTqhMI",
    "outputId": "a6cbe1aa-ab9a-4d02-cc1c-d3e9514e8748"
   },
   "outputs": [],
   "source": [
    "import dgl.nn as dglnn\n",
    "from dgl import from_networkx\n",
    "import torch.nn as nn\n",
    "import torch as th\n",
    "import torch.nn.functional as F\n",
    "import dgl.function as fn\n",
    "import networkx as nx\n",
    "import pandas as pd\n",
    "import socket\n",
    "import struct\n",
    "import random\n",
    "from sklearn.preprocessing import LabelEncoder\n",
    "from sklearn.preprocessing import StandardScaler\n",
    "from sklearn.model_selection import train_test_split\n",
    "import category_encoders as ce\n",
    "from sklearn.decomposition import PCA\n",
    "import seaborn as sns\n",
    "import matplotlib.pyplot as plt\n",
    "import numpy as np"
   ]
  },
  {
   "cell_type": "code",
   "execution_count": 2,
   "metadata": {
    "id": "ki0watiErdJp"
   },
   "outputs": [],
   "source": [
    "data = pd.read_csv(r\"C:\\Users\\91739\\S8_Project\\NF-BoT-IoT.csv\")"
   ]
  },
  {
   "cell_type": "code",
   "execution_count": 4,
   "metadata": {
    "colab": {
     "base_uri": "https://localhost:8080/",
     "height": 439
    },
    "id": "0JmyVopVrqWQ",
    "outputId": "7dd4b901-c0c4-4bb4-b5fa-d504fe9821f2"
   },
   "outputs": [
    {
     "data": {
      "text/html": [
       "<div>\n",
       "<style scoped>\n",
       "    .dataframe tbody tr th:only-of-type {\n",
       "        vertical-align: middle;\n",
       "    }\n",
       "\n",
       "    .dataframe tbody tr th {\n",
       "        vertical-align: top;\n",
       "    }\n",
       "\n",
       "    .dataframe thead th {\n",
       "        text-align: right;\n",
       "    }\n",
       "</style>\n",
       "<table border=\"1\" class=\"dataframe\">\n",
       "  <thead>\n",
       "    <tr style=\"text-align: right;\">\n",
       "      <th></th>\n",
       "      <th>IPV4_SRC_ADDR</th>\n",
       "      <th>L4_SRC_PORT</th>\n",
       "      <th>IPV4_DST_ADDR</th>\n",
       "      <th>L4_DST_PORT</th>\n",
       "      <th>PROTOCOL</th>\n",
       "      <th>L7_PROTO</th>\n",
       "      <th>IN_BYTES</th>\n",
       "      <th>OUT_BYTES</th>\n",
       "      <th>IN_PKTS</th>\n",
       "      <th>OUT_PKTS</th>\n",
       "      <th>TCP_FLAGS</th>\n",
       "      <th>FLOW_DURATION_MILLISECONDS</th>\n",
       "      <th>Label</th>\n",
       "      <th>Attack</th>\n",
       "    </tr>\n",
       "  </thead>\n",
       "  <tbody>\n",
       "    <tr>\n",
       "      <th>0</th>\n",
       "      <td>192.168.100.6</td>\n",
       "      <td>52670</td>\n",
       "      <td>192.168.100.1</td>\n",
       "      <td>53</td>\n",
       "      <td>17</td>\n",
       "      <td>5.212</td>\n",
       "      <td>71</td>\n",
       "      <td>126</td>\n",
       "      <td>1</td>\n",
       "      <td>1</td>\n",
       "      <td>0</td>\n",
       "      <td>4294966</td>\n",
       "      <td>0</td>\n",
       "      <td>Benign</td>\n",
       "    </tr>\n",
       "    <tr>\n",
       "      <th>1</th>\n",
       "      <td>192.168.100.6</td>\n",
       "      <td>49160</td>\n",
       "      <td>192.168.100.149</td>\n",
       "      <td>4444</td>\n",
       "      <td>6</td>\n",
       "      <td>0.000</td>\n",
       "      <td>217753000</td>\n",
       "      <td>199100</td>\n",
       "      <td>4521</td>\n",
       "      <td>4049</td>\n",
       "      <td>24</td>\n",
       "      <td>4176249</td>\n",
       "      <td>1</td>\n",
       "      <td>Theft</td>\n",
       "    </tr>\n",
       "    <tr>\n",
       "      <th>2</th>\n",
       "      <td>192.168.100.46</td>\n",
       "      <td>3456</td>\n",
       "      <td>192.168.100.5</td>\n",
       "      <td>80</td>\n",
       "      <td>17</td>\n",
       "      <td>0.000</td>\n",
       "      <td>8508021</td>\n",
       "      <td>8918372</td>\n",
       "      <td>9086</td>\n",
       "      <td>9086</td>\n",
       "      <td>0</td>\n",
       "      <td>4175916</td>\n",
       "      <td>0</td>\n",
       "      <td>Benign</td>\n",
       "    </tr>\n",
       "    <tr>\n",
       "      <th>3</th>\n",
       "      <td>192.168.100.3</td>\n",
       "      <td>80</td>\n",
       "      <td>192.168.100.55</td>\n",
       "      <td>8080</td>\n",
       "      <td>6</td>\n",
       "      <td>7.000</td>\n",
       "      <td>8442138</td>\n",
       "      <td>9013406</td>\n",
       "      <td>9086</td>\n",
       "      <td>9086</td>\n",
       "      <td>0</td>\n",
       "      <td>4175916</td>\n",
       "      <td>0</td>\n",
       "      <td>Benign</td>\n",
       "    </tr>\n",
       "    <tr>\n",
       "      <th>4</th>\n",
       "      <td>192.168.100.46</td>\n",
       "      <td>80</td>\n",
       "      <td>192.168.100.5</td>\n",
       "      <td>80</td>\n",
       "      <td>6</td>\n",
       "      <td>7.000</td>\n",
       "      <td>8374706</td>\n",
       "      <td>0</td>\n",
       "      <td>9086</td>\n",
       "      <td>0</td>\n",
       "      <td>0</td>\n",
       "      <td>4175916</td>\n",
       "      <td>0</td>\n",
       "      <td>Benign</td>\n",
       "    </tr>\n",
       "  </tbody>\n",
       "</table>\n",
       "</div>"
      ],
      "text/plain": [
       "    IPV4_SRC_ADDR  L4_SRC_PORT    IPV4_DST_ADDR  L4_DST_PORT  PROTOCOL  \\\n",
       "0   192.168.100.6        52670    192.168.100.1           53        17   \n",
       "1   192.168.100.6        49160  192.168.100.149         4444         6   \n",
       "2  192.168.100.46         3456    192.168.100.5           80        17   \n",
       "3   192.168.100.3           80   192.168.100.55         8080         6   \n",
       "4  192.168.100.46           80    192.168.100.5           80         6   \n",
       "\n",
       "   L7_PROTO   IN_BYTES  OUT_BYTES  IN_PKTS  OUT_PKTS  TCP_FLAGS  \\\n",
       "0     5.212         71        126        1         1          0   \n",
       "1     0.000  217753000     199100     4521      4049         24   \n",
       "2     0.000    8508021    8918372     9086      9086          0   \n",
       "3     7.000    8442138    9013406     9086      9086          0   \n",
       "4     7.000    8374706          0     9086         0          0   \n",
       "\n",
       "   FLOW_DURATION_MILLISECONDS  Label  Attack  \n",
       "0                     4294966      0  Benign  \n",
       "1                     4176249      1   Theft  \n",
       "2                     4175916      0  Benign  \n",
       "3                     4175916      0  Benign  \n",
       "4                     4175916      0  Benign  "
      ]
     },
     "execution_count": 4,
     "metadata": {},
     "output_type": "execute_result"
    }
   ],
   "source": [
    "data.head()"
   ]
  },
  {
   "cell_type": "code",
   "execution_count": 5,
   "metadata": {
    "id": "PoVYaeFZtJBd"
   },
   "outputs": [],
   "source": [
    "data['IPV4_SRC_ADDR'] = data.IPV4_SRC_ADDR.apply(lambda x: socket.inet_ntoa(struct.pack('>I', random.randint(0xac100001, 0xac1f0001))))"
   ]
  },
  {
   "cell_type": "code",
   "execution_count": 6,
   "metadata": {
    "id": "zs4z58WCtu8k"
   },
   "outputs": [],
   "source": [
    "data['IPV4_SRC_ADDR'] = data.IPV4_SRC_ADDR.apply(str)\n",
    "data['L4_SRC_PORT'] = data.L4_SRC_PORT.apply(str)\n",
    "data['IPV4_DST_ADDR'] = data.IPV4_DST_ADDR.apply(str)\n",
    "data['L4_DST_PORT'] = data.L4_DST_PORT.apply(str)"
   ]
  },
  {
   "cell_type": "code",
   "execution_count": 7,
   "metadata": {
    "id": "9EEwTAK3tle9"
   },
   "outputs": [],
   "source": [
    "data['IPV4_SRC_ADDR'] = data['IPV4_SRC_ADDR'] + ':' + data['L4_SRC_PORT']\n",
    "data['IPV4_DST_ADDR'] = data['IPV4_DST_ADDR'] + ':' + data['L4_DST_PORT']"
   ]
  },
  {
   "cell_type": "code",
   "execution_count": 8,
   "metadata": {
    "id": "xbdaHUxOtzd-"
   },
   "outputs": [],
   "source": [
    "data.drop(columns=['L4_SRC_PORT','L4_DST_PORT'],inplace=True)"
   ]
  },
  {
   "cell_type": "code",
   "execution_count": 10,
   "metadata": {
    "colab": {
     "base_uri": "https://localhost:8080/",
     "height": 419
    },
    "id": "CN9rLLmr0eeI",
    "outputId": "ccd523c2-0cba-46a4-aef1-434f6a2b741b"
   },
   "outputs": [
    {
     "data": {
      "text/html": [
       "<div>\n",
       "<style scoped>\n",
       "    .dataframe tbody tr th:only-of-type {\n",
       "        vertical-align: middle;\n",
       "    }\n",
       "\n",
       "    .dataframe tbody tr th {\n",
       "        vertical-align: top;\n",
       "    }\n",
       "\n",
       "    .dataframe thead th {\n",
       "        text-align: right;\n",
       "    }\n",
       "</style>\n",
       "<table border=\"1\" class=\"dataframe\">\n",
       "  <thead>\n",
       "    <tr style=\"text-align: right;\">\n",
       "      <th></th>\n",
       "      <th>IPV4_SRC_ADDR</th>\n",
       "      <th>IPV4_DST_ADDR</th>\n",
       "      <th>PROTOCOL</th>\n",
       "      <th>L7_PROTO</th>\n",
       "      <th>IN_BYTES</th>\n",
       "      <th>OUT_BYTES</th>\n",
       "      <th>IN_PKTS</th>\n",
       "      <th>OUT_PKTS</th>\n",
       "      <th>TCP_FLAGS</th>\n",
       "      <th>FLOW_DURATION_MILLISECONDS</th>\n",
       "      <th>Label</th>\n",
       "      <th>Attack</th>\n",
       "    </tr>\n",
       "  </thead>\n",
       "  <tbody>\n",
       "    <tr>\n",
       "      <th>0</th>\n",
       "      <td>172.17.245.209:52670</td>\n",
       "      <td>192.168.100.1:53</td>\n",
       "      <td>17</td>\n",
       "      <td>5.212</td>\n",
       "      <td>71</td>\n",
       "      <td>126</td>\n",
       "      <td>1</td>\n",
       "      <td>1</td>\n",
       "      <td>0</td>\n",
       "      <td>4294966</td>\n",
       "      <td>0</td>\n",
       "      <td>Benign</td>\n",
       "    </tr>\n",
       "    <tr>\n",
       "      <th>1</th>\n",
       "      <td>172.18.60.126:49160</td>\n",
       "      <td>192.168.100.149:4444</td>\n",
       "      <td>6</td>\n",
       "      <td>0.000</td>\n",
       "      <td>217753000</td>\n",
       "      <td>199100</td>\n",
       "      <td>4521</td>\n",
       "      <td>4049</td>\n",
       "      <td>24</td>\n",
       "      <td>4176249</td>\n",
       "      <td>1</td>\n",
       "      <td>Theft</td>\n",
       "    </tr>\n",
       "    <tr>\n",
       "      <th>2</th>\n",
       "      <td>172.21.164.215:3456</td>\n",
       "      <td>192.168.100.5:80</td>\n",
       "      <td>17</td>\n",
       "      <td>0.000</td>\n",
       "      <td>8508021</td>\n",
       "      <td>8918372</td>\n",
       "      <td>9086</td>\n",
       "      <td>9086</td>\n",
       "      <td>0</td>\n",
       "      <td>4175916</td>\n",
       "      <td>0</td>\n",
       "      <td>Benign</td>\n",
       "    </tr>\n",
       "    <tr>\n",
       "      <th>3</th>\n",
       "      <td>172.18.204.156:80</td>\n",
       "      <td>192.168.100.55:8080</td>\n",
       "      <td>6</td>\n",
       "      <td>7.000</td>\n",
       "      <td>8442138</td>\n",
       "      <td>9013406</td>\n",
       "      <td>9086</td>\n",
       "      <td>9086</td>\n",
       "      <td>0</td>\n",
       "      <td>4175916</td>\n",
       "      <td>0</td>\n",
       "      <td>Benign</td>\n",
       "    </tr>\n",
       "    <tr>\n",
       "      <th>4</th>\n",
       "      <td>172.22.134.77:80</td>\n",
       "      <td>192.168.100.5:80</td>\n",
       "      <td>6</td>\n",
       "      <td>7.000</td>\n",
       "      <td>8374706</td>\n",
       "      <td>0</td>\n",
       "      <td>9086</td>\n",
       "      <td>0</td>\n",
       "      <td>0</td>\n",
       "      <td>4175916</td>\n",
       "      <td>0</td>\n",
       "      <td>Benign</td>\n",
       "    </tr>\n",
       "  </tbody>\n",
       "</table>\n",
       "</div>"
      ],
      "text/plain": [
       "          IPV4_SRC_ADDR         IPV4_DST_ADDR  PROTOCOL  L7_PROTO   IN_BYTES  \\\n",
       "0  172.17.245.209:52670      192.168.100.1:53        17     5.212         71   \n",
       "1   172.18.60.126:49160  192.168.100.149:4444         6     0.000  217753000   \n",
       "2   172.21.164.215:3456      192.168.100.5:80        17     0.000    8508021   \n",
       "3     172.18.204.156:80   192.168.100.55:8080         6     7.000    8442138   \n",
       "4      172.22.134.77:80      192.168.100.5:80         6     7.000    8374706   \n",
       "\n",
       "   OUT_BYTES  IN_PKTS  OUT_PKTS  TCP_FLAGS  FLOW_DURATION_MILLISECONDS  Label  \\\n",
       "0        126        1         1          0                     4294966      0   \n",
       "1     199100     4521      4049         24                     4176249      1   \n",
       "2    8918372     9086      9086          0                     4175916      0   \n",
       "3    9013406     9086      9086          0                     4175916      0   \n",
       "4          0     9086         0          0                     4175916      0   \n",
       "\n",
       "   Attack  \n",
       "0  Benign  \n",
       "1   Theft  \n",
       "2  Benign  \n",
       "3  Benign  \n",
       "4  Benign  "
      ]
     },
     "execution_count": 10,
     "metadata": {},
     "output_type": "execute_result"
    }
   ],
   "source": [
    "data.head()"
   ]
  },
  {
   "cell_type": "code",
   "execution_count": 11,
   "metadata": {
    "id": "C_WU15ngvnBM"
   },
   "outputs": [],
   "source": [
    "data.drop(columns=['Label'],inplace = True)"
   ]
  },
  {
   "cell_type": "code",
   "execution_count": 12,
   "metadata": {
    "id": "Q0d3nbdiv37j"
   },
   "outputs": [],
   "source": [
    "data.rename(columns={\"Attack\": \"label\"},inplace = True)"
   ]
  },
  {
   "cell_type": "code",
   "execution_count": 13,
   "metadata": {},
   "outputs": [
    {
     "data": {
      "text/html": [
       "<div>\n",
       "<style scoped>\n",
       "    .dataframe tbody tr th:only-of-type {\n",
       "        vertical-align: middle;\n",
       "    }\n",
       "\n",
       "    .dataframe tbody tr th {\n",
       "        vertical-align: top;\n",
       "    }\n",
       "\n",
       "    .dataframe thead th {\n",
       "        text-align: right;\n",
       "    }\n",
       "</style>\n",
       "<table border=\"1\" class=\"dataframe\">\n",
       "  <thead>\n",
       "    <tr style=\"text-align: right;\">\n",
       "      <th></th>\n",
       "      <th>IPV4_SRC_ADDR</th>\n",
       "      <th>IPV4_DST_ADDR</th>\n",
       "      <th>PROTOCOL</th>\n",
       "      <th>L7_PROTO</th>\n",
       "      <th>IN_BYTES</th>\n",
       "      <th>OUT_BYTES</th>\n",
       "      <th>IN_PKTS</th>\n",
       "      <th>OUT_PKTS</th>\n",
       "      <th>TCP_FLAGS</th>\n",
       "      <th>FLOW_DURATION_MILLISECONDS</th>\n",
       "      <th>label</th>\n",
       "    </tr>\n",
       "  </thead>\n",
       "  <tbody>\n",
       "    <tr>\n",
       "      <th>0</th>\n",
       "      <td>172.17.245.209:52670</td>\n",
       "      <td>192.168.100.1:53</td>\n",
       "      <td>17</td>\n",
       "      <td>5.212</td>\n",
       "      <td>71</td>\n",
       "      <td>126</td>\n",
       "      <td>1</td>\n",
       "      <td>1</td>\n",
       "      <td>0</td>\n",
       "      <td>4294966</td>\n",
       "      <td>Benign</td>\n",
       "    </tr>\n",
       "    <tr>\n",
       "      <th>1</th>\n",
       "      <td>172.18.60.126:49160</td>\n",
       "      <td>192.168.100.149:4444</td>\n",
       "      <td>6</td>\n",
       "      <td>0.000</td>\n",
       "      <td>217753000</td>\n",
       "      <td>199100</td>\n",
       "      <td>4521</td>\n",
       "      <td>4049</td>\n",
       "      <td>24</td>\n",
       "      <td>4176249</td>\n",
       "      <td>Theft</td>\n",
       "    </tr>\n",
       "    <tr>\n",
       "      <th>2</th>\n",
       "      <td>172.21.164.215:3456</td>\n",
       "      <td>192.168.100.5:80</td>\n",
       "      <td>17</td>\n",
       "      <td>0.000</td>\n",
       "      <td>8508021</td>\n",
       "      <td>8918372</td>\n",
       "      <td>9086</td>\n",
       "      <td>9086</td>\n",
       "      <td>0</td>\n",
       "      <td>4175916</td>\n",
       "      <td>Benign</td>\n",
       "    </tr>\n",
       "    <tr>\n",
       "      <th>3</th>\n",
       "      <td>172.18.204.156:80</td>\n",
       "      <td>192.168.100.55:8080</td>\n",
       "      <td>6</td>\n",
       "      <td>7.000</td>\n",
       "      <td>8442138</td>\n",
       "      <td>9013406</td>\n",
       "      <td>9086</td>\n",
       "      <td>9086</td>\n",
       "      <td>0</td>\n",
       "      <td>4175916</td>\n",
       "      <td>Benign</td>\n",
       "    </tr>\n",
       "    <tr>\n",
       "      <th>4</th>\n",
       "      <td>172.22.134.77:80</td>\n",
       "      <td>192.168.100.5:80</td>\n",
       "      <td>6</td>\n",
       "      <td>7.000</td>\n",
       "      <td>8374706</td>\n",
       "      <td>0</td>\n",
       "      <td>9086</td>\n",
       "      <td>0</td>\n",
       "      <td>0</td>\n",
       "      <td>4175916</td>\n",
       "      <td>Benign</td>\n",
       "    </tr>\n",
       "  </tbody>\n",
       "</table>\n",
       "</div>"
      ],
      "text/plain": [
       "          IPV4_SRC_ADDR         IPV4_DST_ADDR  PROTOCOL  L7_PROTO   IN_BYTES  \\\n",
       "0  172.17.245.209:52670      192.168.100.1:53        17     5.212         71   \n",
       "1   172.18.60.126:49160  192.168.100.149:4444         6     0.000  217753000   \n",
       "2   172.21.164.215:3456      192.168.100.5:80        17     0.000    8508021   \n",
       "3     172.18.204.156:80   192.168.100.55:8080         6     7.000    8442138   \n",
       "4      172.22.134.77:80      192.168.100.5:80         6     7.000    8374706   \n",
       "\n",
       "   OUT_BYTES  IN_PKTS  OUT_PKTS  TCP_FLAGS  FLOW_DURATION_MILLISECONDS   label  \n",
       "0        126        1         1          0                     4294966  Benign  \n",
       "1     199100     4521      4049         24                     4176249   Theft  \n",
       "2    8918372     9086      9086          0                     4175916  Benign  \n",
       "3    9013406     9086      9086          0                     4175916  Benign  \n",
       "4          0     9086         0          0                     4175916  Benign  "
      ]
     },
     "execution_count": 13,
     "metadata": {},
     "output_type": "execute_result"
    }
   ],
   "source": [
    "data.head()"
   ]
  },
  {
   "cell_type": "code",
   "execution_count": 14,
   "metadata": {
    "id": "yjS-hTKDzI29"
   },
   "outputs": [],
   "source": [
    "le = LabelEncoder()\n",
    "le.fit_transform(data.label.values)\n",
    "data['label'] = le.transform(data['label'])"
   ]
  },
  {
   "cell_type": "code",
   "execution_count": 15,
   "metadata": {
    "id": "SVgjPVfg03XG"
   },
   "outputs": [],
   "source": [
    "label = data.label"
   ]
  },
  {
   "cell_type": "code",
   "execution_count": 16,
   "metadata": {
    "id": "ADl2Fj7H08Rr"
   },
   "outputs": [],
   "source": [
    "data.drop(columns=['label'],inplace = True)"
   ]
  },
  {
   "cell_type": "code",
   "execution_count": 17,
   "metadata": {
    "id": "qhsZMD3uwLk7"
   },
   "outputs": [],
   "source": [
    "scaler = StandardScaler()"
   ]
  },
  {
   "cell_type": "code",
   "execution_count": 18,
   "metadata": {
    "id": "aukoVdNf2zcp"
   },
   "outputs": [],
   "source": [
    "data =  pd.concat([data, label], axis=1)"
   ]
  },
  {
   "cell_type": "code",
   "execution_count": 20,
   "metadata": {
    "colab": {
     "base_uri": "https://localhost:8080/",
     "height": 419
    },
    "id": "IP-ZEZW4nxSm",
    "outputId": "d3f123dd-51b2-447d-958b-05c3109bb362"
   },
   "outputs": [
    {
     "data": {
      "text/html": [
       "<div>\n",
       "<style scoped>\n",
       "    .dataframe tbody tr th:only-of-type {\n",
       "        vertical-align: middle;\n",
       "    }\n",
       "\n",
       "    .dataframe tbody tr th {\n",
       "        vertical-align: top;\n",
       "    }\n",
       "\n",
       "    .dataframe thead th {\n",
       "        text-align: right;\n",
       "    }\n",
       "</style>\n",
       "<table border=\"1\" class=\"dataframe\">\n",
       "  <thead>\n",
       "    <tr style=\"text-align: right;\">\n",
       "      <th></th>\n",
       "      <th>IPV4_SRC_ADDR</th>\n",
       "      <th>IPV4_DST_ADDR</th>\n",
       "      <th>PROTOCOL</th>\n",
       "      <th>L7_PROTO</th>\n",
       "      <th>IN_BYTES</th>\n",
       "      <th>OUT_BYTES</th>\n",
       "      <th>IN_PKTS</th>\n",
       "      <th>OUT_PKTS</th>\n",
       "      <th>TCP_FLAGS</th>\n",
       "      <th>FLOW_DURATION_MILLISECONDS</th>\n",
       "      <th>label</th>\n",
       "    </tr>\n",
       "  </thead>\n",
       "  <tbody>\n",
       "    <tr>\n",
       "      <th>0</th>\n",
       "      <td>172.17.245.209:52670</td>\n",
       "      <td>192.168.100.1:53</td>\n",
       "      <td>17</td>\n",
       "      <td>5.212</td>\n",
       "      <td>71</td>\n",
       "      <td>126</td>\n",
       "      <td>1</td>\n",
       "      <td>1</td>\n",
       "      <td>0</td>\n",
       "      <td>4294966</td>\n",
       "      <td>0</td>\n",
       "    </tr>\n",
       "    <tr>\n",
       "      <th>1</th>\n",
       "      <td>172.18.60.126:49160</td>\n",
       "      <td>192.168.100.149:4444</td>\n",
       "      <td>6</td>\n",
       "      <td>0.000</td>\n",
       "      <td>217753000</td>\n",
       "      <td>199100</td>\n",
       "      <td>4521</td>\n",
       "      <td>4049</td>\n",
       "      <td>24</td>\n",
       "      <td>4176249</td>\n",
       "      <td>4</td>\n",
       "    </tr>\n",
       "    <tr>\n",
       "      <th>2</th>\n",
       "      <td>172.21.164.215:3456</td>\n",
       "      <td>192.168.100.5:80</td>\n",
       "      <td>17</td>\n",
       "      <td>0.000</td>\n",
       "      <td>8508021</td>\n",
       "      <td>8918372</td>\n",
       "      <td>9086</td>\n",
       "      <td>9086</td>\n",
       "      <td>0</td>\n",
       "      <td>4175916</td>\n",
       "      <td>0</td>\n",
       "    </tr>\n",
       "    <tr>\n",
       "      <th>3</th>\n",
       "      <td>172.18.204.156:80</td>\n",
       "      <td>192.168.100.55:8080</td>\n",
       "      <td>6</td>\n",
       "      <td>7.000</td>\n",
       "      <td>8442138</td>\n",
       "      <td>9013406</td>\n",
       "      <td>9086</td>\n",
       "      <td>9086</td>\n",
       "      <td>0</td>\n",
       "      <td>4175916</td>\n",
       "      <td>0</td>\n",
       "    </tr>\n",
       "    <tr>\n",
       "      <th>4</th>\n",
       "      <td>172.22.134.77:80</td>\n",
       "      <td>192.168.100.5:80</td>\n",
       "      <td>6</td>\n",
       "      <td>7.000</td>\n",
       "      <td>8374706</td>\n",
       "      <td>0</td>\n",
       "      <td>9086</td>\n",
       "      <td>0</td>\n",
       "      <td>0</td>\n",
       "      <td>4175916</td>\n",
       "      <td>0</td>\n",
       "    </tr>\n",
       "  </tbody>\n",
       "</table>\n",
       "</div>"
      ],
      "text/plain": [
       "          IPV4_SRC_ADDR         IPV4_DST_ADDR  PROTOCOL  L7_PROTO   IN_BYTES  \\\n",
       "0  172.17.245.209:52670      192.168.100.1:53        17     5.212         71   \n",
       "1   172.18.60.126:49160  192.168.100.149:4444         6     0.000  217753000   \n",
       "2   172.21.164.215:3456      192.168.100.5:80        17     0.000    8508021   \n",
       "3     172.18.204.156:80   192.168.100.55:8080         6     7.000    8442138   \n",
       "4      172.22.134.77:80      192.168.100.5:80         6     7.000    8374706   \n",
       "\n",
       "   OUT_BYTES  IN_PKTS  OUT_PKTS  TCP_FLAGS  FLOW_DURATION_MILLISECONDS  label  \n",
       "0        126        1         1          0                     4294966      0  \n",
       "1     199100     4521      4049         24                     4176249      4  \n",
       "2    8918372     9086      9086          0                     4175916      0  \n",
       "3    9013406     9086      9086          0                     4175916      0  \n",
       "4          0     9086         0          0                     4175916      0  "
      ]
     },
     "execution_count": 20,
     "metadata": {},
     "output_type": "execute_result"
    }
   ],
   "source": [
    "data.head()"
   ]
  },
  {
   "cell_type": "code",
   "execution_count": 21,
   "metadata": {
    "id": "PUa4uJbewQc7"
   },
   "outputs": [],
   "source": [
    "X_train, X_test, y_train, y_test = train_test_split(\n",
    "     data, label, test_size=0.3, random_state=123,stratify= label)"
   ]
  },
  {
   "cell_type": "code",
   "execution_count": 22,
   "metadata": {},
   "outputs": [],
   "source": [
    "from sklearn.preprocessing import LabelEncoder\n",
    "\n",
    "# Initialize a LabelEncoder\n",
    "label_encoder = LabelEncoder()\n",
    "\n",
    "# Encode each of the specified columns\n",
    "X_train['TCP_FLAGS'] = label_encoder.fit_transform(X_train['TCP_FLAGS'])\n",
    "X_train['L7_PROTO'] = label_encoder.fit_transform(X_train['L7_PROTO'])\n",
    "X_train['PROTOCOL'] = label_encoder.fit_transform(X_train['PROTOCOL'])\n"
   ]
  },
  {
   "cell_type": "code",
   "execution_count": 23,
   "metadata": {
    "id": "EDKYHCbcqN81"
   },
   "outputs": [],
   "source": [
    "cols_to_norm = list(set(list(X_train.iloc[:, 2:].columns ))  - set(list(['label'])) )\n",
    "X_train[cols_to_norm] = scaler.fit_transform(X_train[cols_to_norm])"
   ]
  },
  {
   "cell_type": "code",
   "execution_count": 24,
   "metadata": {
    "id": "ek535MkWwUHN"
   },
   "outputs": [],
   "source": [
    "X_train['h'] = X_train[ cols_to_norm ].values.tolist()"
   ]
  },
  {
   "cell_type": "code",
   "execution_count": 26,
   "metadata": {
    "colab": {
     "base_uri": "https://localhost:8080/",
     "height": 711
    },
    "id": "v4mfPB0X9rRX",
    "outputId": "29a8752f-28cd-49b4-c4c1-15e0d58d4a6a"
   },
   "outputs": [
    {
     "data": {
      "text/html": [
       "<div>\n",
       "<style scoped>\n",
       "    .dataframe tbody tr th:only-of-type {\n",
       "        vertical-align: middle;\n",
       "    }\n",
       "\n",
       "    .dataframe tbody tr th {\n",
       "        vertical-align: top;\n",
       "    }\n",
       "\n",
       "    .dataframe thead th {\n",
       "        text-align: right;\n",
       "    }\n",
       "</style>\n",
       "<table border=\"1\" class=\"dataframe\">\n",
       "  <thead>\n",
       "    <tr style=\"text-align: right;\">\n",
       "      <th></th>\n",
       "      <th>IPV4_SRC_ADDR</th>\n",
       "      <th>IPV4_DST_ADDR</th>\n",
       "      <th>PROTOCOL</th>\n",
       "      <th>L7_PROTO</th>\n",
       "      <th>IN_BYTES</th>\n",
       "      <th>OUT_BYTES</th>\n",
       "      <th>IN_PKTS</th>\n",
       "      <th>OUT_PKTS</th>\n",
       "      <th>TCP_FLAGS</th>\n",
       "      <th>FLOW_DURATION_MILLISECONDS</th>\n",
       "      <th>label</th>\n",
       "      <th>h</th>\n",
       "    </tr>\n",
       "  </thead>\n",
       "  <tbody>\n",
       "    <tr>\n",
       "      <th>592389</th>\n",
       "      <td>172.16.36.102:57470</td>\n",
       "      <td>192.168.100.3:80</td>\n",
       "      <td>-0.203766</td>\n",
       "      <td>0.586125</td>\n",
       "      <td>-0.010775</td>\n",
       "      <td>-0.007610</td>\n",
       "      <td>0.002649</td>\n",
       "      <td>-0.008687</td>\n",
       "      <td>1.595192</td>\n",
       "      <td>-2.082482</td>\n",
       "      <td>3</td>\n",
       "      <td>[-0.007609741239479864, 0.5861248597232097, -2...</td>\n",
       "    </tr>\n",
       "    <tr>\n",
       "      <th>541914</th>\n",
       "      <td>172.23.154.35:53426</td>\n",
       "      <td>192.168.100.3:80</td>\n",
       "      <td>-0.203766</td>\n",
       "      <td>0.586125</td>\n",
       "      <td>-0.015998</td>\n",
       "      <td>-0.007551</td>\n",
       "      <td>-0.021496</td>\n",
       "      <td>-0.003471</td>\n",
       "      <td>1.840208</td>\n",
       "      <td>-2.082482</td>\n",
       "      <td>1</td>\n",
       "      <td>[-0.00755078741810335, 0.5861248597232097, -2....</td>\n",
       "    </tr>\n",
       "    <tr>\n",
       "      <th>393332</th>\n",
       "      <td>172.16.0.132:60855</td>\n",
       "      <td>192.168.100.6:9080</td>\n",
       "      <td>-0.203766</td>\n",
       "      <td>-0.474476</td>\n",
       "      <td>-0.017433</td>\n",
       "      <td>-0.008378</td>\n",
       "      <td>-0.045641</td>\n",
       "      <td>-0.024336</td>\n",
       "      <td>-0.119921</td>\n",
       "      <td>0.496292</td>\n",
       "      <td>3</td>\n",
       "      <td>[-0.008378408372042869, -0.47447579239604726, ...</td>\n",
       "    </tr>\n",
       "    <tr>\n",
       "      <th>180488</th>\n",
       "      <td>172.27.83.203:14323</td>\n",
       "      <td>192.168.100.3:12139</td>\n",
       "      <td>-0.203766</td>\n",
       "      <td>-0.474476</td>\n",
       "      <td>-0.017440</td>\n",
       "      <td>-0.008378</td>\n",
       "      <td>-0.045641</td>\n",
       "      <td>-0.024336</td>\n",
       "      <td>-0.119921</td>\n",
       "      <td>0.496292</td>\n",
       "      <td>3</td>\n",
       "      <td>[-0.008378408372042869, -0.47447579239604726, ...</td>\n",
       "    </tr>\n",
       "    <tr>\n",
       "      <th>207769</th>\n",
       "      <td>172.23.191.50:40317</td>\n",
       "      <td>192.168.100.5:5357</td>\n",
       "      <td>-0.203766</td>\n",
       "      <td>-0.474476</td>\n",
       "      <td>-0.017433</td>\n",
       "      <td>-0.008378</td>\n",
       "      <td>-0.045641</td>\n",
       "      <td>-0.024336</td>\n",
       "      <td>-0.119921</td>\n",
       "      <td>0.496292</td>\n",
       "      <td>3</td>\n",
       "      <td>[-0.008378408372042869, -0.47447579239604726, ...</td>\n",
       "    </tr>\n",
       "    <tr>\n",
       "      <th>...</th>\n",
       "      <td>...</td>\n",
       "      <td>...</td>\n",
       "      <td>...</td>\n",
       "      <td>...</td>\n",
       "      <td>...</td>\n",
       "      <td>...</td>\n",
       "      <td>...</td>\n",
       "      <td>...</td>\n",
       "      <td>...</td>\n",
       "      <td>...</td>\n",
       "      <td>...</td>\n",
       "      <td>...</td>\n",
       "    </tr>\n",
       "    <tr>\n",
       "      <th>96131</th>\n",
       "      <td>172.18.109.82:57963</td>\n",
       "      <td>192.168.100.5:1027</td>\n",
       "      <td>-0.203766</td>\n",
       "      <td>-0.474476</td>\n",
       "      <td>-0.017433</td>\n",
       "      <td>-0.008378</td>\n",
       "      <td>-0.045641</td>\n",
       "      <td>-0.024336</td>\n",
       "      <td>-0.119921</td>\n",
       "      <td>0.496290</td>\n",
       "      <td>3</td>\n",
       "      <td>[-0.008378408372042869, -0.47447579239604726, ...</td>\n",
       "    </tr>\n",
       "    <tr>\n",
       "      <th>583684</th>\n",
       "      <td>172.16.166.23:54248</td>\n",
       "      <td>192.168.100.3:80</td>\n",
       "      <td>-0.203766</td>\n",
       "      <td>0.586125</td>\n",
       "      <td>-0.016132</td>\n",
       "      <td>-0.007551</td>\n",
       "      <td>-0.021496</td>\n",
       "      <td>-0.003471</td>\n",
       "      <td>1.840208</td>\n",
       "      <td>-2.082482</td>\n",
       "      <td>1</td>\n",
       "      <td>[-0.00755078741810335, 0.5861248597232097, -2....</td>\n",
       "    </tr>\n",
       "    <tr>\n",
       "      <th>599529</th>\n",
       "      <td>172.16.189.179:43797</td>\n",
       "      <td>192.168.100.150:4433</td>\n",
       "      <td>-0.203766</td>\n",
       "      <td>-0.474476</td>\n",
       "      <td>-0.017403</td>\n",
       "      <td>-0.008378</td>\n",
       "      <td>-0.045641</td>\n",
       "      <td>-0.024336</td>\n",
       "      <td>-0.119921</td>\n",
       "      <td>0.496292</td>\n",
       "      <td>4</td>\n",
       "      <td>[-0.008378408372042869, -0.47447579239604726, ...</td>\n",
       "    </tr>\n",
       "    <tr>\n",
       "      <th>352726</th>\n",
       "      <td>172.29.158.98:33197</td>\n",
       "      <td>192.168.100.5:90</td>\n",
       "      <td>-0.203766</td>\n",
       "      <td>-0.474476</td>\n",
       "      <td>-0.017433</td>\n",
       "      <td>-0.008378</td>\n",
       "      <td>-0.045641</td>\n",
       "      <td>-0.024336</td>\n",
       "      <td>-0.119921</td>\n",
       "      <td>0.496289</td>\n",
       "      <td>3</td>\n",
       "      <td>[-0.008378408372042869, -0.47447579239604726, ...</td>\n",
       "    </tr>\n",
       "    <tr>\n",
       "      <th>566386</th>\n",
       "      <td>172.22.54.76:48166</td>\n",
       "      <td>192.168.100.3:80</td>\n",
       "      <td>-0.203766</td>\n",
       "      <td>0.586125</td>\n",
       "      <td>-0.017306</td>\n",
       "      <td>-0.008424</td>\n",
       "      <td>-0.041617</td>\n",
       "      <td>-0.029552</td>\n",
       "      <td>-0.119921</td>\n",
       "      <td>-1.679595</td>\n",
       "      <td>1</td>\n",
       "      <td>[-0.008423757465409418, 0.5861248597232097, -1...</td>\n",
       "    </tr>\n",
       "  </tbody>\n",
       "</table>\n",
       "<p>420070 rows × 12 columns</p>\n",
       "</div>"
      ],
      "text/plain": [
       "               IPV4_SRC_ADDR         IPV4_DST_ADDR  PROTOCOL  L7_PROTO  \\\n",
       "592389   172.16.36.102:57470      192.168.100.3:80 -0.203766  0.586125   \n",
       "541914   172.23.154.35:53426      192.168.100.3:80 -0.203766  0.586125   \n",
       "393332    172.16.0.132:60855    192.168.100.6:9080 -0.203766 -0.474476   \n",
       "180488   172.27.83.203:14323   192.168.100.3:12139 -0.203766 -0.474476   \n",
       "207769   172.23.191.50:40317    192.168.100.5:5357 -0.203766 -0.474476   \n",
       "...                      ...                   ...       ...       ...   \n",
       "96131    172.18.109.82:57963    192.168.100.5:1027 -0.203766 -0.474476   \n",
       "583684   172.16.166.23:54248      192.168.100.3:80 -0.203766  0.586125   \n",
       "599529  172.16.189.179:43797  192.168.100.150:4433 -0.203766 -0.474476   \n",
       "352726   172.29.158.98:33197      192.168.100.5:90 -0.203766 -0.474476   \n",
       "566386    172.22.54.76:48166      192.168.100.3:80 -0.203766  0.586125   \n",
       "\n",
       "        IN_BYTES  OUT_BYTES   IN_PKTS  OUT_PKTS  TCP_FLAGS  \\\n",
       "592389 -0.010775  -0.007610  0.002649 -0.008687   1.595192   \n",
       "541914 -0.015998  -0.007551 -0.021496 -0.003471   1.840208   \n",
       "393332 -0.017433  -0.008378 -0.045641 -0.024336  -0.119921   \n",
       "180488 -0.017440  -0.008378 -0.045641 -0.024336  -0.119921   \n",
       "207769 -0.017433  -0.008378 -0.045641 -0.024336  -0.119921   \n",
       "...          ...        ...       ...       ...        ...   \n",
       "96131  -0.017433  -0.008378 -0.045641 -0.024336  -0.119921   \n",
       "583684 -0.016132  -0.007551 -0.021496 -0.003471   1.840208   \n",
       "599529 -0.017403  -0.008378 -0.045641 -0.024336  -0.119921   \n",
       "352726 -0.017433  -0.008378 -0.045641 -0.024336  -0.119921   \n",
       "566386 -0.017306  -0.008424 -0.041617 -0.029552  -0.119921   \n",
       "\n",
       "        FLOW_DURATION_MILLISECONDS  label  \\\n",
       "592389                   -2.082482      3   \n",
       "541914                   -2.082482      1   \n",
       "393332                    0.496292      3   \n",
       "180488                    0.496292      3   \n",
       "207769                    0.496292      3   \n",
       "...                            ...    ...   \n",
       "96131                     0.496290      3   \n",
       "583684                   -2.082482      1   \n",
       "599529                    0.496292      4   \n",
       "352726                    0.496289      3   \n",
       "566386                   -1.679595      1   \n",
       "\n",
       "                                                        h  \n",
       "592389  [-0.007609741239479864, 0.5861248597232097, -2...  \n",
       "541914  [-0.00755078741810335, 0.5861248597232097, -2....  \n",
       "393332  [-0.008378408372042869, -0.47447579239604726, ...  \n",
       "180488  [-0.008378408372042869, -0.47447579239604726, ...  \n",
       "207769  [-0.008378408372042869, -0.47447579239604726, ...  \n",
       "...                                                   ...  \n",
       "96131   [-0.008378408372042869, -0.47447579239604726, ...  \n",
       "583684  [-0.00755078741810335, 0.5861248597232097, -2....  \n",
       "599529  [-0.008378408372042869, -0.47447579239604726, ...  \n",
       "352726  [-0.008378408372042869, -0.47447579239604726, ...  \n",
       "566386  [-0.008423757465409418, 0.5861248597232097, -1...  \n",
       "\n",
       "[420070 rows x 12 columns]"
      ]
     },
     "execution_count": 26,
     "metadata": {},
     "output_type": "execute_result"
    }
   ],
   "source": [
    "X_train"
   ]
  },
  {
   "cell_type": "code",
   "execution_count": 27,
   "metadata": {
    "id": "OIrcNfMSwa0j"
   },
   "outputs": [],
   "source": [
    "G = nx.from_pandas_edgelist(X_train, \"IPV4_SRC_ADDR\", \"IPV4_DST_ADDR\", ['h','label'],create_using=nx.MultiGraph())"
   ]
  },
  {
   "cell_type": "code",
   "execution_count": 28,
   "metadata": {
    "id": "QluLSxbiwn7M"
   },
   "outputs": [],
   "source": [
    "G = G.to_directed()\n"
   ]
  },
  {
   "cell_type": "code",
   "execution_count": 29,
   "metadata": {
    "id": "2zClkKEzwrVb"
   },
   "outputs": [],
   "source": [
    "G = from_networkx(G,edge_attrs=['h','label'] )\n"
   ]
  },
  {
   "cell_type": "code",
   "execution_count": 30,
   "metadata": {
    "id": "9jlBYgE8wsW7"
   },
   "outputs": [],
   "source": [
    "# Eq1\n",
    "G.ndata['h'] = th.ones(G.num_nodes(), G.edata['h'].shape[1])"
   ]
  },
  {
   "cell_type": "code",
   "execution_count": 31,
   "metadata": {
    "id": "E7Vc6IELwuJr"
   },
   "outputs": [],
   "source": [
    "train_mask = th.zeros(len(G.edata['h']), dtype=th.bool)\n",
    "val_mask = th.zeros(len(G.edata['h']), dtype=th.bool)\n"
   ]
  },
  {
   "cell_type": "code",
   "execution_count": null,
   "metadata": {},
   "outputs": [],
   "source": [
    "# Use 80% for training, 20% for validation\n",
    "n_edges = len(G.edata['h'])\n",
    "train_size = int(0.8 * n_edges)\n",
    "perm = th.randperm(n_edges)\n",
    "train_mask[perm[:train_size]] = True\n",
    "val_mask[perm[train_size:]] = True\n",
    "\n",
    "G.edata['train_mask'] = train_mask\n",
    "G.edata['val_mask'] = val_mask"
   ]
  },
  {
   "cell_type": "code",
   "execution_count": 32,
   "metadata": {
    "colab": {
     "base_uri": "https://localhost:8080/"
    },
    "id": "BIx7-W6s46Ju",
    "outputId": "234c56a1-9958-4e82-e244-b2a41dcf2855"
   },
   "outputs": [
    {
     "data": {
      "text/plain": [
       "tensor([True, True, True,  ..., True, True, True])"
      ]
     },
     "execution_count": 32,
     "metadata": {},
     "output_type": "execute_result"
    }
   ],
   "source": [
    "G.edata['train_mask'] "
   ]
  },
  {
   "cell_type": "code",
   "execution_count": 33,
   "metadata": {
    "id": "DzDap1MR5e95"
   },
   "outputs": [],
   "source": [
    "def compute_accuracy(pred, labels):\n",
    "    return (pred.argmax(1) == labels).float().mean().item()"
   ]
  },
  {
   "cell_type": "code",
   "execution_count": 62,
   "metadata": {
    "id": "5VzTQxAR5HoT"
   },
   "outputs": [],
   "source": [
    "class SAGELayer(nn.Module):\n",
    "    def __init__(self, ndim_in, edims, ndim_out, activation):\n",
    "        super(SAGELayer, self).__init__()\n",
    "        self.W_msg = nn.Linear(ndim_in + edims, ndim_out)\n",
    "        self.W_apply = nn.Linear(ndim_in + ndim_out, ndim_out)\n",
    "        self.activation = activation\n",
    "        # Add batch normalization\n",
    "        self.batch_norm = nn.BatchNorm1d(ndim_out)\n",
    "\n",
    "    def message_func(self, edges):\n",
    "        return {'m': self.W_msg(th.cat([edges.src['h'], edges.data['h']], 2))}\n",
    "\n",
    "    def forward(self, g_dgl, nfeats, efeats):\n",
    "        with g_dgl.local_scope():\n",
    "            g = g_dgl\n",
    "            g.ndata['h'] = nfeats\n",
    "            g.edata['h'] = efeats\n",
    "            g.update_all(self.message_func, fn.mean('m', 'h_neigh'))\n",
    "            combined = th.cat([g.ndata['h'], g.ndata['h_neigh']], 2)\n",
    "            out = self.W_apply(combined)\n",
    "            # Apply batch norm and activation\n",
    "            out = out.view(-1, out.size(-1))\n",
    "            out = self.batch_norm(out)\n",
    "            out = out.view(g.ndata['h'].size(0), 1, -1)\n",
    "            out = self.activation(out)\n",
    "            return out\n",
    "\n",
    "\n",
    "class SAGE(nn.Module):\n",
    "    def __init__(self, ndim_in, ndim_out, edim, activation, dropout):\n",
    "        super(SAGE, self).__init__()\n",
    "        self.layers = nn.ModuleList()\n",
    "        # Increase network depth and width\n",
    "        self.layers.append(SAGELayer(ndim_in, edim, 256, activation))\n",
    "        self.layers.append(SAGELayer(256, edim, 256, activation))\n",
    "        self.layers.append(SAGELayer(256, edim, ndim_out, activation))\n",
    "        self.dropout = nn.Dropout(p=dropout)\n",
    "\n",
    "    def forward(self, g, nfeats, efeats):\n",
    "        for i, layer in enumerate(self.layers):\n",
    "            if i != 0:\n",
    "                nfeats = self.dropout(nfeats)\n",
    "            nfeats = layer(g, nfeats, efeats)\n",
    "        return nfeats.sum(1)"
   ]
  },
  {
   "cell_type": "code",
   "execution_count": 63,
   "metadata": {
    "id": "hrLYvze5wwMi"
   },
   "outputs": [],
   "source": [
    "class MLPPredictor(nn.Module):\n",
    "    def __init__(self, in_features, out_classes):\n",
    "        super().__init__()\n",
    "        self.W = nn.Linear(in_features * 2, out_classes)\n",
    "\n",
    "    def apply_edges(self, edges):\n",
    "        h_u = edges.src['h']\n",
    "        h_v = edges.dst['h']\n",
    "        score = self.W(th.cat([h_u, h_v], 1))\n",
    "        return {'score': score}\n",
    "\n",
    "    def forward(self, graph, h):\n",
    "        with graph.local_scope():\n",
    "            graph.ndata['h'] = h\n",
    "            graph.apply_edges(self.apply_edges)\n",
    "            return graph.edata['score']"
   ]
  },
  {
   "cell_type": "code",
   "execution_count": 64,
   "metadata": {
    "id": "GPLg-kCcwxLa"
   },
   "outputs": [
    {
     "ename": "RuntimeError",
     "evalue": "shape '[433129, 1, 1]' is invalid for input of size 3465032",
     "output_type": "error",
     "traceback": [
      "\u001b[1;31m---------------------------------------------------------------------------\u001b[0m",
      "\u001b[1;31mRuntimeError\u001b[0m                              Traceback (most recent call last)",
      "Cell \u001b[1;32mIn[64], line 1\u001b[0m\n\u001b[1;32m----> 1\u001b[0m G\u001b[38;5;241m.\u001b[39mndata[\u001b[38;5;124m'\u001b[39m\u001b[38;5;124mh\u001b[39m\u001b[38;5;124m'\u001b[39m] \u001b[38;5;241m=\u001b[39m \u001b[43mth\u001b[49m\u001b[38;5;241;43m.\u001b[39;49m\u001b[43mreshape\u001b[49m\u001b[43m(\u001b[49m\u001b[43mG\u001b[49m\u001b[38;5;241;43m.\u001b[39;49m\u001b[43mndata\u001b[49m\u001b[43m[\u001b[49m\u001b[38;5;124;43m'\u001b[39;49m\u001b[38;5;124;43mh\u001b[39;49m\u001b[38;5;124;43m'\u001b[39;49m\u001b[43m]\u001b[49m\u001b[43m,\u001b[49m\u001b[43m \u001b[49m\u001b[43m(\u001b[49m\u001b[43mG\u001b[49m\u001b[38;5;241;43m.\u001b[39;49m\u001b[43mndata\u001b[49m\u001b[43m[\u001b[49m\u001b[38;5;124;43m'\u001b[39;49m\u001b[38;5;124;43mh\u001b[39;49m\u001b[38;5;124;43m'\u001b[39;49m\u001b[43m]\u001b[49m\u001b[38;5;241;43m.\u001b[39;49m\u001b[43mshape\u001b[49m\u001b[43m[\u001b[49m\u001b[38;5;241;43m0\u001b[39;49m\u001b[43m]\u001b[49m\u001b[43m,\u001b[49m\u001b[43m \u001b[49m\u001b[38;5;241;43m1\u001b[39;49m\u001b[43m,\u001b[49m\u001b[43mG\u001b[49m\u001b[38;5;241;43m.\u001b[39;49m\u001b[43mndata\u001b[49m\u001b[43m[\u001b[49m\u001b[38;5;124;43m'\u001b[39;49m\u001b[38;5;124;43mh\u001b[39;49m\u001b[38;5;124;43m'\u001b[39;49m\u001b[43m]\u001b[49m\u001b[38;5;241;43m.\u001b[39;49m\u001b[43mshape\u001b[49m\u001b[43m[\u001b[49m\u001b[38;5;241;43m1\u001b[39;49m\u001b[43m]\u001b[49m\u001b[43m)\u001b[49m\u001b[43m)\u001b[49m\n\u001b[0;32m      2\u001b[0m G\u001b[38;5;241m.\u001b[39medata[\u001b[38;5;124m'\u001b[39m\u001b[38;5;124mh\u001b[39m\u001b[38;5;124m'\u001b[39m] \u001b[38;5;241m=\u001b[39m th\u001b[38;5;241m.\u001b[39mreshape(G\u001b[38;5;241m.\u001b[39medata[\u001b[38;5;124m'\u001b[39m\u001b[38;5;124mh\u001b[39m\u001b[38;5;124m'\u001b[39m], (G\u001b[38;5;241m.\u001b[39medata[\u001b[38;5;124m'\u001b[39m\u001b[38;5;124mh\u001b[39m\u001b[38;5;124m'\u001b[39m]\u001b[38;5;241m.\u001b[39mshape[\u001b[38;5;241m0\u001b[39m], \u001b[38;5;241m1\u001b[39m,G\u001b[38;5;241m.\u001b[39medata[\u001b[38;5;124m'\u001b[39m\u001b[38;5;124mh\u001b[39m\u001b[38;5;124m'\u001b[39m]\u001b[38;5;241m.\u001b[39mshape[\u001b[38;5;241m1\u001b[39m]))\n",
      "\u001b[1;31mRuntimeError\u001b[0m: shape '[433129, 1, 1]' is invalid for input of size 3465032"
     ]
    }
   ],
   "source": [
    "G.ndata['h'] = th.reshape(G.ndata['h'], (G.ndata['h'].shape[0], 1,G.ndata['h'].shape[1]))\n",
    "G.edata['h'] = th.reshape(G.edata['h'], (G.edata['h'].shape[0], 1,G.edata['h'].shape[1]))"
   ]
  },
  {
   "cell_type": "code",
   "execution_count": 37,
   "metadata": {
    "id": "SwdZs785w1dT"
   },
   "outputs": [],
   "source": [
    "class Model(nn.Module):\n",
    "    def __init__(self, ndim_in, ndim_out, edim, activation, dropout):\n",
    "        super().__init__()\n",
    "        self.gnn = SAGE(ndim_in, ndim_out, edim, activation, dropout)\n",
    "        self.pred = MLPPredictor(ndim_out, 5)\n",
    "    def forward(self, g, nfeats, efeats):\n",
    "        h = self.gnn(g, nfeats, efeats)\n",
    "        return self.pred(g, h)"
   ]
  },
  {
   "cell_type": "code",
   "execution_count": 38,
   "metadata": {},
   "outputs": [],
   "source": [
    "from sklearn.utils import class_weight\n",
    "import numpy as np\n",
    "\n",
    "# Ensure the labels are in NumPy format and not a DGL tensor or PyTorch tensor\n",
    "labels = G.edata['label'].cpu().numpy()\n",
    "\n",
    "# Calculate class weights\n",
    "class_weights = class_weight.compute_class_weight(\n",
    "    'balanced',\n",
    "    classes=np.unique(labels),\n",
    "    y=labels\n",
    ")\n"
   ]
  },
  {
   "cell_type": "code",
   "execution_count": 39,
   "metadata": {
    "id": "Cti0vAFYw3A0"
   },
   "outputs": [],
   "source": [
    "class_weights = th.FloatTensor(class_weights)\n",
    "criterion = nn.CrossEntropyLoss(weight = class_weights)"
   ]
  },
  {
   "cell_type": "code",
   "execution_count": 40,
   "metadata": {
    "colab": {
     "base_uri": "https://localhost:8080/"
    },
    "id": "Rj3DHIZmw4IM",
    "outputId": "25d6e453-935e-4132-e67b-f6dbc46c699a"
   },
   "outputs": [
    {
     "data": {
      "text/plain": [
       "device(type='cpu')"
      ]
     },
     "execution_count": 40,
     "metadata": {},
     "output_type": "execute_result"
    }
   ],
   "source": [
    "G = G.to('cpu')\n",
    "G.device"
   ]
  },
  {
   "cell_type": "code",
   "execution_count": 41,
   "metadata": {
    "colab": {
     "base_uri": "https://localhost:8080/"
    },
    "id": "qdlVG3JOw5Qj",
    "outputId": "48880507-da3a-41d5-f470-b594953d822c"
   },
   "outputs": [
    {
     "data": {
      "text/plain": [
       "device(type='cpu')"
      ]
     },
     "execution_count": 41,
     "metadata": {},
     "output_type": "execute_result"
    }
   ],
   "source": [
    "G.ndata['h'].device\n"
   ]
  },
  {
   "cell_type": "code",
   "execution_count": 42,
   "metadata": {
    "colab": {
     "base_uri": "https://localhost:8080/"
    },
    "id": "dvt3pnXmw6U7",
    "outputId": "9f97f898-6d60-4295-dac3-16efa108353c"
   },
   "outputs": [
    {
     "data": {
      "text/plain": [
       "device(type='cpu')"
      ]
     },
     "execution_count": 42,
     "metadata": {},
     "output_type": "execute_result"
    }
   ],
   "source": [
    "G.edata['h'].device\n"
   ]
  },
  {
   "cell_type": "code",
   "execution_count": null,
   "metadata": {
    "colab": {
     "base_uri": "https://localhost:8080/"
    },
    "id": "-_eTiHzWw8Cz",
    "outputId": "a9129648-590f-433f-99e1-f7cf871283d7"
   },
   "outputs": [
    {
     "name": "stdout",
     "output_type": "stream",
     "text": [
      "Training acc: 0.11611516773700714\n",
      "Training acc: 0.7566488981246948\n",
      "Training acc: 0.7515485286712646\n",
      "Training acc: 0.7566120028495789\n",
      "Training acc: 0.7535696625709534\n",
      "Training acc: 0.6745089888572693\n",
      "Training acc: 0.7456376552581787\n",
      "Training acc: 0.7353096008300781\n",
      "Training acc: 0.7449841499328613\n",
      "Training acc: 0.6717999577522278\n"
     ]
    }
   ],
   "source": [
    "node_features = G.ndata['h']\n",
    "edge_features = G.edata['h']\n",
    "\n",
    "edge_label = G.edata['label']\n",
    "train_mask = G.edata['train_mask']\n",
    "\n",
    "model = Model(G.ndata['h'].shape[2], 128, G.ndata['h'].shape[2], F.relu, 0.2)\n",
    "optimizer = th.optim.Adam(model.parameters(), lr=0.001)\n",
    "scheduler = th.optim.lr_scheduler.ReduceLROnPlateau(optimizer, mode='max', factor=0.5, patience=5,verbose=True)\n",
    "\n",
    "# Early stopping setup\n",
    "best_val_acc = 0\n",
    "patience = 10\n",
    "patience_counter = 0\n",
    "\n",
    "for epoch in range(1,101):\n",
    "    model.train()\n",
    "    pred = model(G, node_features, edge_features)\n",
    "    \n",
    "    # Training step\n",
    "    loss = criterion(pred[G.edata['train_mask']], edge_label[G.edata['train_mask']])\n",
    "    optimizer.zero_grad()\n",
    "    loss.backward()\n",
    "    optimizer.step()\n",
    "    \n",
    "    # Validation step\n",
    "    model.eval()\n",
    "    with th.no_grad():\n",
    "        val_pred = model(G, node_features, edge_features)\n",
    "        val_acc = compute_accuracy(val_pred[G.edata['val_mask']], edge_label[G.edata['val_mask']])\n",
    "        train_acc = compute_accuracy(pred[G.edata['train_mask']], edge_label[G.edata['train_mask']])\n",
    "    \n",
    "    # Learning rate scheduling\n",
    "    scheduler.step(val_acc)\n",
    "\n",
    "        # Early stopping check\n",
    "    if val_acc > best_val_acc:\n",
    "        best_val_acc = val_acc\n",
    "        patience_counter = 0\n",
    "        # Save best model\n",
    "        th.save(model.state_dict(), 'best_model.pth')\n",
    "    else:\n",
    "        patience_counter += 1\n",
    "    \n",
    "    if patience_counter >= patience:\n",
    "        print(f'Early stopping at epoch {epoch}')\n",
    "        break\n",
    "        \n",
    "    if epoch % 10 == 0:\n",
    "        print(f'Epoch {epoch}:')\n",
    "        print(f'Training acc: {train_acc:.4f}')\n",
    "        print(f'Validation acc: {val_acc:.4f}')"
   ]
  },
  {
   "cell_type": "code",
   "execution_count": 44,
   "metadata": {
    "id": "p7gYo6lVtHCN"
   },
   "outputs": [],
   "source": [
    "# Find the most frequent class\n",
    "most_frequent_class = label_encoder.classes_[0]  # Assuming the first class is the most frequent\n",
    "\n",
    "# Replace unseen labels with the most frequent class\n",
    "X_test['TCP_FLAGS'] = X_test['TCP_FLAGS'].apply(lambda x: x if x in label_encoder.classes_ else most_frequent_class)\n",
    "X_test['L7_PROTO'] = X_test['L7_PROTO'].apply(lambda x: x if x in label_encoder.classes_ else most_frequent_class)\n",
    "X_test['PROTOCOL'] = X_test['PROTOCOL'].apply(lambda x: x if x in label_encoder.classes_ else most_frequent_class)\n",
    "\n",
    "# Then transform the test data\n",
    "X_test['TCP_FLAGS'] = label_encoder.transform(X_test['TCP_FLAGS'])\n",
    "X_test['L7_PROTO'] = label_encoder.transform(X_test['L7_PROTO'])\n",
    "X_test['PROTOCOL'] = label_encoder.transform(X_test['PROTOCOL'])\n"
   ]
  },
  {
   "cell_type": "code",
   "execution_count": 45,
   "metadata": {
    "id": "OUGIEbMFtSnf"
   },
   "outputs": [],
   "source": [
    "X_test[cols_to_norm] = scaler.transform(X_test[cols_to_norm])"
   ]
  },
  {
   "cell_type": "code",
   "execution_count": 46,
   "metadata": {
    "colab": {
     "base_uri": "https://localhost:8080/",
     "height": 439
    },
    "id": "VlyqlEqjtb9s",
    "outputId": "6b637a23-7f60-4810-9348-38c50d09d30c"
   },
   "outputs": [
    {
     "data": {
      "text/html": [
       "<div>\n",
       "<style scoped>\n",
       "    .dataframe tbody tr th:only-of-type {\n",
       "        vertical-align: middle;\n",
       "    }\n",
       "\n",
       "    .dataframe tbody tr th {\n",
       "        vertical-align: top;\n",
       "    }\n",
       "\n",
       "    .dataframe thead th {\n",
       "        text-align: right;\n",
       "    }\n",
       "</style>\n",
       "<table border=\"1\" class=\"dataframe\">\n",
       "  <thead>\n",
       "    <tr style=\"text-align: right;\">\n",
       "      <th></th>\n",
       "      <th>IPV4_SRC_ADDR</th>\n",
       "      <th>IPV4_DST_ADDR</th>\n",
       "      <th>PROTOCOL</th>\n",
       "      <th>L7_PROTO</th>\n",
       "      <th>IN_BYTES</th>\n",
       "      <th>OUT_BYTES</th>\n",
       "      <th>IN_PKTS</th>\n",
       "      <th>OUT_PKTS</th>\n",
       "      <th>TCP_FLAGS</th>\n",
       "      <th>FLOW_DURATION_MILLISECONDS</th>\n",
       "      <th>label</th>\n",
       "    </tr>\n",
       "  </thead>\n",
       "  <tbody>\n",
       "    <tr>\n",
       "      <th>508964</th>\n",
       "      <td>172.29.146.159:3851</td>\n",
       "      <td>192.168.100.148:57874</td>\n",
       "      <td>-0.203766</td>\n",
       "      <td>-0.474476</td>\n",
       "      <td>-0.017440</td>\n",
       "      <td>-0.008374</td>\n",
       "      <td>-0.045641</td>\n",
       "      <td>-0.024336</td>\n",
       "      <td>-2.570081</td>\n",
       "      <td>0.496292</td>\n",
       "      <td>3</td>\n",
       "    </tr>\n",
       "    <tr>\n",
       "      <th>550351</th>\n",
       "      <td>172.28.244.148:59388</td>\n",
       "      <td>192.168.100.3:80</td>\n",
       "      <td>-0.203766</td>\n",
       "      <td>-0.474476</td>\n",
       "      <td>-0.015694</td>\n",
       "      <td>-0.007551</td>\n",
       "      <td>-0.021496</td>\n",
       "      <td>-0.003471</td>\n",
       "      <td>-2.570081</td>\n",
       "      <td>-2.082482</td>\n",
       "      <td>3</td>\n",
       "    </tr>\n",
       "    <tr>\n",
       "      <th>126326</th>\n",
       "      <td>172.24.143.107:14903</td>\n",
       "      <td>192.168.100.3:12625</td>\n",
       "      <td>-0.203766</td>\n",
       "      <td>-0.474476</td>\n",
       "      <td>-0.017440</td>\n",
       "      <td>-0.008378</td>\n",
       "      <td>-0.045641</td>\n",
       "      <td>-0.024336</td>\n",
       "      <td>-2.570081</td>\n",
       "      <td>0.496292</td>\n",
       "      <td>3</td>\n",
       "    </tr>\n",
       "    <tr>\n",
       "      <th>75198</th>\n",
       "      <td>172.21.140.1:33223</td>\n",
       "      <td>192.168.100.5:2383</td>\n",
       "      <td>-0.203766</td>\n",
       "      <td>-0.474476</td>\n",
       "      <td>-0.017433</td>\n",
       "      <td>-0.008378</td>\n",
       "      <td>-0.045641</td>\n",
       "      <td>-0.024336</td>\n",
       "      <td>-2.570081</td>\n",
       "      <td>0.496290</td>\n",
       "      <td>3</td>\n",
       "    </tr>\n",
       "    <tr>\n",
       "      <th>459608</th>\n",
       "      <td>172.19.194.218:53308</td>\n",
       "      <td>192.168.100.3:3306</td>\n",
       "      <td>-0.203766</td>\n",
       "      <td>-0.474476</td>\n",
       "      <td>-0.016705</td>\n",
       "      <td>-0.007860</td>\n",
       "      <td>-0.021496</td>\n",
       "      <td>0.001745</td>\n",
       "      <td>-2.570081</td>\n",
       "      <td>0.496174</td>\n",
       "      <td>3</td>\n",
       "    </tr>\n",
       "  </tbody>\n",
       "</table>\n",
       "</div>"
      ],
      "text/plain": [
       "               IPV4_SRC_ADDR          IPV4_DST_ADDR  PROTOCOL  L7_PROTO  \\\n",
       "508964   172.29.146.159:3851  192.168.100.148:57874 -0.203766 -0.474476   \n",
       "550351  172.28.244.148:59388       192.168.100.3:80 -0.203766 -0.474476   \n",
       "126326  172.24.143.107:14903    192.168.100.3:12625 -0.203766 -0.474476   \n",
       "75198     172.21.140.1:33223     192.168.100.5:2383 -0.203766 -0.474476   \n",
       "459608  172.19.194.218:53308     192.168.100.3:3306 -0.203766 -0.474476   \n",
       "\n",
       "        IN_BYTES  OUT_BYTES   IN_PKTS  OUT_PKTS  TCP_FLAGS  \\\n",
       "508964 -0.017440  -0.008374 -0.045641 -0.024336  -2.570081   \n",
       "550351 -0.015694  -0.007551 -0.021496 -0.003471  -2.570081   \n",
       "126326 -0.017440  -0.008378 -0.045641 -0.024336  -2.570081   \n",
       "75198  -0.017433  -0.008378 -0.045641 -0.024336  -2.570081   \n",
       "459608 -0.016705  -0.007860 -0.021496  0.001745  -2.570081   \n",
       "\n",
       "        FLOW_DURATION_MILLISECONDS  label  \n",
       "508964                    0.496292      3  \n",
       "550351                   -2.082482      3  \n",
       "126326                    0.496292      3  \n",
       "75198                     0.496290      3  \n",
       "459608                    0.496174      3  "
      ]
     },
     "execution_count": 46,
     "metadata": {},
     "output_type": "execute_result"
    }
   ],
   "source": [
    "X_test.head()"
   ]
  },
  {
   "cell_type": "code",
   "execution_count": 47,
   "metadata": {
    "id": "q5CMxVe5xIDb"
   },
   "outputs": [],
   "source": [
    "X_test['h'] = X_test[ cols_to_norm ].values.tolist()"
   ]
  },
  {
   "cell_type": "code",
   "execution_count": 48,
   "metadata": {
    "id": "VsAmtLAbxN_6"
   },
   "outputs": [],
   "source": [
    "G_test = nx.from_pandas_edgelist(X_test, \"IPV4_SRC_ADDR\", \"IPV4_DST_ADDR\", ['h','label'],create_using=nx.MultiGraph())\n",
    "G_test = G_test.to_directed()\n",
    "G_test = from_networkx(G_test,edge_attrs=['h','label'] )\n",
    "actual = G_test.edata.pop('label')\n",
    "G_test.ndata['feature'] = th.ones(G_test.num_nodes(), G.ndata['h'].shape[2])"
   ]
  },
  {
   "cell_type": "code",
   "execution_count": 49,
   "metadata": {
    "id": "Eeux6JIxxQtC"
   },
   "outputs": [],
   "source": [
    "G_test.ndata['feature'] = th.reshape(G_test.ndata['feature'], (G_test.ndata['feature'].shape[0], 1, G_test.ndata['feature'].shape[1]))"
   ]
  },
  {
   "cell_type": "code",
   "execution_count": 50,
   "metadata": {
    "id": "PBETQI3YxYay"
   },
   "outputs": [],
   "source": [
    "G_test.edata['h'] = th.reshape(G_test.edata['h'], (G_test.edata['h'].shape[0], 1, G_test.edata['h'].shape[1]))\n"
   ]
  },
  {
   "cell_type": "code",
   "execution_count": 51,
   "metadata": {
    "id": "qlTOyVN6xZZB"
   },
   "outputs": [],
   "source": [
    "G_test = G_test.to('cpu')\n"
   ]
  },
  {
   "cell_type": "code",
   "execution_count": 52,
   "metadata": {
    "id": "QyugNIt9xac6"
   },
   "outputs": [],
   "source": [
    "import timeit\n",
    "start_time = timeit.default_timer()\n",
    "node_features_test = G_test.ndata['feature']\n",
    "edge_features_test = G_test.edata['h']\n",
    "test_pred = model(G_test, node_features_test, edge_features_test)\n",
    "elapsed = timeit.default_timer() - start_time"
   ]
  },
  {
   "cell_type": "code",
   "execution_count": 53,
   "metadata": {
    "colab": {
     "base_uri": "https://localhost:8080/"
    },
    "id": "KecCvilSxcFK",
    "outputId": "8e974877-889d-43a1-e5c7-06e1e731e1d0"
   },
   "outputs": [
    {
     "name": "stdout",
     "output_type": "stream",
     "text": [
      "1.2445734000029915 seconds\n"
     ]
    }
   ],
   "source": [
    "print(str(elapsed) + ' seconds')\n"
   ]
  },
  {
   "cell_type": "code",
   "execution_count": 54,
   "metadata": {
    "id": "BNQLnLoAxdST"
   },
   "outputs": [],
   "source": [
    "test_pred = test_pred.argmax(1)\n"
   ]
  },
  {
   "cell_type": "code",
   "execution_count": 55,
   "metadata": {
    "id": "9dtggXXsxevx"
   },
   "outputs": [],
   "source": [
    "test_pred = th.Tensor.cpu(test_pred).detach().numpy()\n"
   ]
  },
  {
   "cell_type": "code",
   "execution_count": 56,
   "metadata": {
    "id": "5TGb_KWRxfzS"
   },
   "outputs": [],
   "source": [
    "actual = le.inverse_transform(actual)\n",
    "test_pred = le.inverse_transform(test_pred)"
   ]
  },
  {
   "cell_type": "code",
   "execution_count": 57,
   "metadata": {
    "id": "n7z7tHTPxhBC"
   },
   "outputs": [],
   "source": [
    "from sklearn.metrics import confusion_matrix\n"
   ]
  },
  {
   "cell_type": "code",
   "execution_count": 58,
   "metadata": {
    "id": "uMRairwzxiBC"
   },
   "outputs": [],
   "source": [
    "import numpy as np\n",
    "\n",
    "\n",
    "def plot_confusion_matrix(cm,\n",
    "                          target_names,\n",
    "                          title='Confusion matrix',\n",
    "                          cmap=None,\n",
    "                          normalize=True):\n",
    "    \n",
    "    import matplotlib.pyplot as plt\n",
    "    import numpy as np\n",
    "    import itertools\n",
    "\n",
    "    accuracy = np.trace(cm) / float(np.sum(cm))\n",
    "    misclass = 1 - accuracy\n",
    "\n",
    "    if cmap is None:\n",
    "        cmap = plt.get_cmap('Blues')\n",
    "\n",
    "    plt.figure(figsize=(12, 12))\n",
    "    plt.imshow(cm, interpolation='nearest', cmap=cmap)\n",
    "    plt.title(title)\n",
    "    plt.colorbar()\n",
    "\n",
    "    if target_names is not None:\n",
    "        tick_marks = np.arange(len(target_names))\n",
    "        plt.xticks(tick_marks, target_names, rotation=45)\n",
    "        plt.yticks(tick_marks, target_names)\n",
    "\n",
    "    if normalize:\n",
    "        cm = cm.astype('float') / cm.sum(axis=1)[:, np.newaxis]\n",
    "\n",
    "\n",
    "    thresh = cm.max() / 1.5 if normalize else cm.max() / 2\n",
    "    for i, j in itertools.product(range(cm.shape[0]), range(cm.shape[1])):\n",
    "        if normalize:\n",
    "            plt.text(j, i, \"{:0.4f}\".format(cm[i, j]),\n",
    "                     horizontalalignment=\"center\",\n",
    "                     color=\"white\" if cm[i, j] > thresh else \"black\")\n",
    "        else:\n",
    "            plt.text(j, i, \"{:,}\".format(cm[i, j]),\n",
    "                     horizontalalignment=\"center\",\n",
    "                     color=\"white\" if cm[i, j] > thresh else \"black\")\n",
    "\n",
    "\n",
    "    plt.tight_layout()\n",
    "    plt.ylabel('True label')\n",
    "    plt.xlabel('Predicted label\\naccuracy={:0.4f}; misclass={:0.4f}'.format(accuracy, misclass))\n",
    "    plt.show()"
   ]
  },
  {
   "cell_type": "code",
   "execution_count": 59,
   "metadata": {
    "colab": {
     "base_uri": "https://localhost:8080/",
     "height": 718
    },
    "id": "KNCkVWyqxjaR",
    "outputId": "3af8ef73-a011-49a7-9335-52ba77ea7dd4"
   },
   "outputs": [
    {
     "data": {
      "image/png": "[encoded data removed]",
      "text/plain": [
       "<Figure size 1200x1200 with 2 Axes>"
      ]
     },
     "metadata": {},
     "output_type": "display_data"
    }
   ],
   "source": [
    "from sklearn.metrics import confusion_matrix\n",
    "\n",
    "plot_confusion_matrix(cm = confusion_matrix(actual, test_pred), \n",
    "                      normalize    = False,\n",
    "                      target_names = np.unique(actual),\n",
    "                      title        = \"Confusion Matrix\")"
   ]
  },
  {
   "cell_type": "code",
   "execution_count": 61,
   "metadata": {
    "id": "rC9-S7j9A48K"
   },
   "outputs": [],
   "source": [
    "# After training\n",
    "th.save(model.state_dict(), 'new_model.pth')"
   ]
  },
  {
   "cell_type": "code",
   "execution_count": null,
   "metadata": {},
   "outputs": [],
   "source": [
    "# After training\n",
    "th.save(model.state_dict(), 'new_model.pth')"
   ]
  }
 ],
 "metadata": {
  "accelerator": "GPU",
  "colab": {
   "collapsed_sections": [],
   "machine_shape": "hm",
   "name": "Unsw_bot_iot_multiclass_mean_agg.ipynb",
   "provenance": []
  },
  "kernelspec": {
   "display_name": "Python (new_env)",
   "language": "python",
   "name": "new_env"
  },
  "language_info": {
   "codemirror_mode": {
    "name": "ipython",
    "version": 3
   },
   "file_extension": ".py",
   "mimetype": "text/x-python",
   "name": "python",
   "nbconvert_exporter": "python",
   "pygments_lexer": "ipython3",
   "version": "3.12.5"
  }
 },
 "nbformat": 4,
 "nbformat_minor": 4
}
